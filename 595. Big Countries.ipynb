{
 "cells": [
  {
   "cell_type": "code",
   "execution_count": 0,
   "metadata": {
    "application/vnd.databricks.v1+cell": {
     "cellMetadata": {
      "byteLimit": 2048000,
      "rowLimit": 10000
     },
     "inputWidgets": {},
     "nuid": "5bdcf227-9365-4692-ace5-554ac97b1b08",
     "showTitle": false,
     "title": ""
    }
   },
   "outputs": [],
   "source": [
    "data =[('Afghanistan','Asia',652230,25500100,20343000000),\n",
    "('Albania','Europe',28748,2831741,12960000000),\n",
    "('Algeria','Africa',2381741,37100000,188681000000),\n",
    "('Andorra','Europe',468,78115,3712000000),\n",
    "('Angola','Africa',1246700,20609294,100990000000)]\n",
    "\n",
    "columns = ['name','continent','area','population','gdp']"
   ]
  },
  {
   "cell_type": "code",
   "execution_count": 0,
   "metadata": {
    "application/vnd.databricks.v1+cell": {
     "cellMetadata": {
      "byteLimit": 2048000,
      "rowLimit": 10000
     },
     "inputWidgets": {},
     "nuid": "712eef4c-54f5-4110-92bc-ca2cf3677132",
     "showTitle": false,
     "title": ""
    }
   },
   "outputs": [
    {
     "output_type": "stream",
     "name": "stdout",
     "output_type": "stream",
     "text": [
      "+-----------+---------+-------+----------+------------+\n|       name|continent|   area|population|         gdp|\n+-----------+---------+-------+----------+------------+\n|Afghanistan|     Asia| 652230|  25500100| 20343000000|\n|    Albania|   Europe|  28748|   2831741| 12960000000|\n|    Algeria|   Africa|2381741|  37100000|188681000000|\n|    Andorra|   Europe|    468|     78115|  3712000000|\n|     Angola|   Africa|1246700|  20609294|100990000000|\n+-----------+---------+-------+----------+------------+\n\n"
     ]
    }
   ],
   "source": [
    "world = spark.createDataFrame(data=data,schema=columns)\n",
    "world.show()"
   ]
  },
  {
   "cell_type": "markdown",
   "metadata": {
    "application/vnd.databricks.v1+cell": {
     "cellMetadata": {},
     "inputWidgets": {},
     "nuid": "cef69f27-277c-4c56-9a7d-b077b0d0aacc",
     "showTitle": false,
     "title": ""
    }
   },
   "source": [
    "A country is big if:\n",
    "\n",
    "it has an area of at least three million (i.e., 3000000 km2), or\n",
    "it has a population of at least twenty-five million (i.e., 25000000).\n",
    "Write a solution to find the name, population, and area of the big countries.\n",
    "\n",
    "Return the result table in any order.\n",
    "Write a solution to find the name, population, and area of the big countries"
   ]
  },
  {
   "cell_type": "code",
   "execution_count": 0,
   "metadata": {
    "application/vnd.databricks.v1+cell": {
     "cellMetadata": {
      "byteLimit": 2048000,
      "rowLimit": 10000
     },
     "inputWidgets": {},
     "nuid": "1d9539ba-dbfd-47e1-9555-46dfd18a43b7",
     "showTitle": false,
     "title": ""
    }
   },
   "outputs": [
    {
     "output_type": "stream",
     "name": "stdout",
     "output_type": "stream",
     "text": [
      "+-----------+----------+-------+\n|       name|population|   area|\n+-----------+----------+-------+\n|Afghanistan|  25500100| 652230|\n|    Algeria|  37100000|2381741|\n+-----------+----------+-------+\n\n"
     ]
    }
   ],
   "source": [
    "import pyspark.sql.functions as F\n",
    "world.filter((F.col('area') > 3000000) | (F.col('population')>25000000)).select(F.col('name'),F.col('population'),F.col('area')).show()"
   ]
  },
  {
   "cell_type": "code",
   "execution_count": 0,
   "metadata": {
    "application/vnd.databricks.v1+cell": {
     "cellMetadata": {},
     "inputWidgets": {},
     "nuid": "6914a82e-ee6d-4ec3-a0ce-9b50203f1cc9",
     "showTitle": false,
     "title": ""
    }
   },
   "outputs": [],
   "source": []
  }
 ],
 "metadata": {
  "application/vnd.databricks.v1+notebook": {
   "dashboards": [],
   "language": "python",
   "notebookMetadata": {
    "pythonIndentUnit": 4
   },
   "notebookName": "595. Big Countries",
   "widgets": {}
  }
 },
 "nbformat": 4,
 "nbformat_minor": 0
}
